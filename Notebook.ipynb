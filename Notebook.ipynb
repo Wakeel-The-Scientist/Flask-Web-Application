{
 "cells": [
  {
   "cell_type": "code",
   "execution_count": null,
   "metadata": {
    "vscode": {
     "languageId": "plaintext"
    }
   },
   "outputs": [],
   "source": [
    "from flask import Flask,render_template,request\n",
    "'''\n",
    " It creates an instance of the Flask class, \n",
    " which will be your WSGI (Web Server Gateway Interface) application.\n",
    "'''\n",
    "###WSGI Application\n",
    "app=Flask(__name__)\n",
    "\n",
    "@app.route(\"/\")\n",
    "def welcome():\n",
    "    return \"<html><H1>Welcome to the flask web application</H1></html>\"\n",
    "\n",
    "@app.route(\"/index\",methods=['GET'])\n",
    "def index():\n",
    "    return render_template('index.html')\n",
    "\n",
    "@app.route('/about')\n",
    "def about():\n",
    "    return render_template('about.html')\n",
    "\n",
    "@app.route('/form',methods=['GET','POST'])\n",
    "def form():\n",
    "    if request.method=='POST':\n",
    "        name=request.form['name']\n",
    "        return f'Hello {name}!'\n",
    "    return render_template('form.html')\n",
    "\n",
    "@app.route('/submit',methods=['GET','POST'])\n",
    "def submit():\n",
    "    if request.method=='POST':\n",
    "        name=request.form['name']\n",
    "        return f'Hello {name}!'\n",
    "    return render_template('form.html')\n",
    "\n",
    "\n",
    "if __name__==\"__main__\":\n",
    "    app.run(debug=True)\n"
   ]
  }
 ],
 "metadata": {
  "language_info": {
   "name": "python"
  }
 },
 "nbformat": 4,
 "nbformat_minor": 2
}
